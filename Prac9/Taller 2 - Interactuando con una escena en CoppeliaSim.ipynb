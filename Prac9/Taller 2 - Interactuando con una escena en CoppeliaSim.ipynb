{
 "cells": [
  {
   "attachments": {},
   "cell_type": "markdown",
   "id": "40dacb44",
   "metadata": {},
   "source": [
    "<h2>Taller 2 - Interactuando con una escena en CoppeliaSim</h2>\n",
    "<br>Autor: Claudio Morales D.\n",
    "<br>Centro de Automatización y Robótica Inacap\n",
    "<br>Santiago, Chile, enero 2023\n"
   ]
  },
  {
   "attachments": {},
   "cell_type": "markdown",
   "id": "b05cacc3",
   "metadata": {},
   "source": [
    "<h3>zeroMQ remote API: Información preliminar</h3>\n",
    "<br>Entre las múltiples opciones de comunicación con CoppeliaSIm, la zeroMQ remote API entrega funcionalidades que facilitan la interacción con scripts de Python y con otros lenguajes de programación.\n",
    "<br>Las instrucciones para instalar la librería se encuentra aquí: <a>https://www.coppeliarobotics.com/helpFiles/en/zmqRemoteApiOverview.htm</a>\n",
    "<br>La descripción detallada de las funciones de la API se encuentra aquí: <a>https://www.coppeliarobotics.com/helpFiles/en/apiFunctions.htm</a>"
   ]
  },
  {
   "attachments": {},
   "cell_type": "markdown",
   "id": "c8f2767d",
   "metadata": {},
   "source": [
    "<h3>1. Instrucciones mínimas para comunicarse con CoppeliaSim</h3>\n",
    "\n",
    "Varios ejemplos del uso de la zeroMQ remote API pueden consultarse aquí: <a>https://github.com/CoppeliaRobotics/zmqRemoteApi/tree/master/clients/python</a>"
   ]
  },
  {
   "cell_type": "code",
   "execution_count": 35,
   "id": "8eaf94ae",
   "metadata": {},
   "outputs": [],
   "source": [
    "# 1. Importamos la librería para comunicaciones remotas\n",
    "# NOTA 1: Se requiere la instalación previa de pyzmq y cbor.\n",
    "# NOTA 2: Si la librería no está direccionada en el PATH de python, copiar \n",
    "#         la carpeta de librería 'zmqRemoteApi' junto a este cuaderno de Jypyter. \n",
    "#         'zmqRemoteApi' para Python se encuentra en:\n",
    "#                 *ruta de instalacion*\\CoppeliaSimEdu\\programming\\zmqRemoteApi\\clients\\python\\\n",
    "import zmqRemoteApi\n",
    "\n",
    "# 2. Se crea un cliente para conectarse al servidor zmqRemoteApi de CoppeliaSim\n",
    "# los parámetros por defecto son: host='localhost', port=23000\n",
    "client = zmqRemoteApi.RemoteAPIClient()\n",
    "\n",
    "# 3. Obtener el objeto remoto 'sim':\n",
    "sim = client.getObject('sim')\n",
    "\n",
    "# 4. Llamar a una funcion de la API:\n",
    "h = sim.getObject('/base')"
   ]
  },
  {
   "cell_type": "code",
   "execution_count": 36,
   "id": "a86afadc",
   "metadata": {},
   "outputs": [
    {
     "data": {
      "text/plain": [
       "16"
      ]
     },
     "execution_count": 36,
     "metadata": {},
     "output_type": "execute_result"
    }
   ],
   "source": [
    "joint1 = sim.getObject(\"/base/joint1\")\n",
    "joint1"
   ]
  },
  {
   "cell_type": "code",
   "execution_count": 37,
   "id": "c6e5e95b",
   "metadata": {},
   "outputs": [
    {
     "data": {
      "text/plain": [
       "15"
      ]
     },
     "execution_count": 37,
     "metadata": {},
     "output_type": "execute_result"
    }
   ],
   "source": [
    "h"
   ]
  },
  {
   "attachments": {},
   "cell_type": "markdown",
   "id": "86fa1349",
   "metadata": {},
   "source": [
    "<h3>2. Usando la API remota para mover nuestro robot </h3>\n"
   ]
  },
  {
   "cell_type": "code",
   "execution_count": 1,
   "id": "23aa093d",
   "metadata": {},
   "outputs": [
    {
     "name": "stdout",
     "output_type": "stream",
     "text": [
      "warning: import zmqRemoteApi is deprecated. Please use import coppeliasim_zmqremoteapi_client instead.\n"
     ]
    }
   ],
   "source": [
    "# Cargamos la librería, creamos un cliente y obtenemos acceso a sim\n",
    "import zmqRemoteApi\n",
    "client = zmqRemoteApi.RemoteAPIClient()\n",
    "sim = client.getObject('sim')"
   ]
  },
  {
   "cell_type": "code",
   "execution_count": 2,
   "id": "19a33923",
   "metadata": {},
   "outputs": [
    {
     "name": "stdout",
     "output_type": "stream",
     "text": [
      "16 19 23 27\n"
     ]
    }
   ],
   "source": [
    "# Obtenemos los manejadores para las articulaciones y el actuador final\n",
    "joint1 = sim.getObject('/base/joint1')\n",
    "joint2 = sim.getObject('/base/joint2')\n",
    "joint3 = sim.getObject('/base/joint3')\n",
    "endEffector = sim.getObject('/base/connection')\n",
    "\n",
    "print(joint1, joint2, joint3, endEffector)"
   ]
  },
  {
   "cell_type": "code",
   "execution_count": 9,
   "id": "63083563",
   "metadata": {},
   "outputs": [
    {
     "data": {
      "text/plain": [
       "1"
      ]
     },
     "execution_count": 9,
     "metadata": {},
     "output_type": "execute_result"
    }
   ],
   "source": [
    "# Ahora movemos el robot\n",
    "sim.setJointTargetPosition(joint1, 45*3.14159/180)\n"
   ]
  },
  {
   "cell_type": "code",
   "execution_count": 26,
   "id": "2be0fb80",
   "metadata": {},
   "outputs": [
    {
     "data": {
      "text/plain": [
       "1"
      ]
     },
     "execution_count": 26,
     "metadata": {},
     "output_type": "execute_result"
    }
   ],
   "source": [
    "sim.setJointTargetPosition(joint1, 75*3.14159/180)\n",
    "sim.setJointTargetPosition(joint2, 0.15)\n",
    "sim.setJointTargetPosition(joint3, -75*3.14159/180)"
   ]
  },
  {
   "cell_type": "code",
   "execution_count": 34,
   "id": "735c9712",
   "metadata": {},
   "outputs": [
    {
     "data": {
      "text/plain": [
       "[0.051762602452465514, 0.1932011500260495, 0.27995226631287007]"
      ]
     },
     "execution_count": 34,
     "metadata": {},
     "output_type": "execute_result"
    }
   ],
   "source": [
    "Pe = sim.getObjectPosition(endEffector, sim.handle_world)\n",
    "Pj1 = sim.getObjectPosition(joint1, sim.handle_world)\n",
    "Pj2 = sim.getObjectPosition(joint2, sim.handle_world)\n",
    "Pj3 = sim.getObjectPosition(joint3, sim.handle_world)\n",
    "#Cada variable contiene su posición correspondiente, en este caso probado con Pj3\n",
    "Pj3"
   ]
  }
 ],
 "metadata": {
  "kernelspec": {
   "display_name": "Python 3 (ipykernel)",
   "language": "python",
   "name": "python3"
  },
  "language_info": {
   "codemirror_mode": {
    "name": "ipython",
    "version": 3
   },
   "file_extension": ".py",
   "mimetype": "text/x-python",
   "name": "python",
   "nbconvert_exporter": "python",
   "pygments_lexer": "ipython3",
   "version": "3.11.3"
  }
 },
 "nbformat": 4,
 "nbformat_minor": 5
}
